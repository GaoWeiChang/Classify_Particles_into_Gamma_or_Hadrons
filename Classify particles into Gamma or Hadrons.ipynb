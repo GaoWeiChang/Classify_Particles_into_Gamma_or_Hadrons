{
 "cells": [
  {
   "cell_type": "code",
   "execution_count": 244,
   "id": "5641cbe9",
   "metadata": {},
   "outputs": [],
   "source": [
    "import numpy as np\n",
    "import pandas as pd\n",
    "from sklearn.decomposition import PCA\n",
    "from sklearn.svm import LinearSVC\n",
    "from sklearn.model_selection import train_test_split\n",
    "from sklearn.metrics import confusion_matrix\n",
    "import matplotlib.pyplot as plt\n",
    "import seaborn as sns"
   ]
  },
  {
   "cell_type": "markdown",
   "id": "7e2ac46f",
   "metadata": {},
   "source": [
    "## Load dataset"
   ]
  },
  {
   "cell_type": "code",
   "execution_count": 245,
   "id": "59cf252a",
   "metadata": {},
   "outputs": [],
   "source": [
    "df = pd.read_csv('./telescope_data.csv', index_col=0)"
   ]
  },
  {
   "cell_type": "code",
   "execution_count": 246,
   "id": "d25a5266",
   "metadata": {},
   "outputs": [
    {
     "data": {
      "text/html": [
       "<div>\n",
       "<style scoped>\n",
       "    .dataframe tbody tr th:only-of-type {\n",
       "        vertical-align: middle;\n",
       "    }\n",
       "\n",
       "    .dataframe tbody tr th {\n",
       "        vertical-align: top;\n",
       "    }\n",
       "\n",
       "    .dataframe thead th {\n",
       "        text-align: right;\n",
       "    }\n",
       "</style>\n",
       "<table border=\"1\" class=\"dataframe\">\n",
       "  <thead>\n",
       "    <tr style=\"text-align: right;\">\n",
       "      <th></th>\n",
       "      <th>fLength</th>\n",
       "      <th>fWidth</th>\n",
       "      <th>fSize</th>\n",
       "      <th>fConc</th>\n",
       "      <th>fConc1</th>\n",
       "      <th>fAsym</th>\n",
       "      <th>fM3Long</th>\n",
       "      <th>fM3Trans</th>\n",
       "      <th>fAlpha</th>\n",
       "      <th>fDist</th>\n",
       "      <th>class</th>\n",
       "    </tr>\n",
       "  </thead>\n",
       "  <tbody>\n",
       "    <tr>\n",
       "      <th>0</th>\n",
       "      <td>28.7967</td>\n",
       "      <td>16.0021</td>\n",
       "      <td>2.6449</td>\n",
       "      <td>0.3918</td>\n",
       "      <td>0.1982</td>\n",
       "      <td>27.7004</td>\n",
       "      <td>22.0110</td>\n",
       "      <td>-8.2027</td>\n",
       "      <td>40.0920</td>\n",
       "      <td>81.8828</td>\n",
       "      <td>g</td>\n",
       "    </tr>\n",
       "    <tr>\n",
       "      <th>1</th>\n",
       "      <td>31.6036</td>\n",
       "      <td>11.7235</td>\n",
       "      <td>2.5185</td>\n",
       "      <td>0.5303</td>\n",
       "      <td>0.3773</td>\n",
       "      <td>26.2722</td>\n",
       "      <td>23.8238</td>\n",
       "      <td>-9.9574</td>\n",
       "      <td>6.3609</td>\n",
       "      <td>205.2610</td>\n",
       "      <td>g</td>\n",
       "    </tr>\n",
       "    <tr>\n",
       "      <th>2</th>\n",
       "      <td>162.0520</td>\n",
       "      <td>136.0310</td>\n",
       "      <td>4.0612</td>\n",
       "      <td>0.0374</td>\n",
       "      <td>0.0187</td>\n",
       "      <td>116.7410</td>\n",
       "      <td>-64.8580</td>\n",
       "      <td>-45.2160</td>\n",
       "      <td>76.9600</td>\n",
       "      <td>256.7880</td>\n",
       "      <td>g</td>\n",
       "    </tr>\n",
       "    <tr>\n",
       "      <th>3</th>\n",
       "      <td>23.8172</td>\n",
       "      <td>9.5728</td>\n",
       "      <td>2.3385</td>\n",
       "      <td>0.6147</td>\n",
       "      <td>0.3922</td>\n",
       "      <td>27.2107</td>\n",
       "      <td>-6.4633</td>\n",
       "      <td>-7.1513</td>\n",
       "      <td>10.4490</td>\n",
       "      <td>116.7370</td>\n",
       "      <td>g</td>\n",
       "    </tr>\n",
       "    <tr>\n",
       "      <th>4</th>\n",
       "      <td>75.1362</td>\n",
       "      <td>30.9205</td>\n",
       "      <td>3.1611</td>\n",
       "      <td>0.3168</td>\n",
       "      <td>0.1832</td>\n",
       "      <td>-5.5277</td>\n",
       "      <td>28.5525</td>\n",
       "      <td>21.8393</td>\n",
       "      <td>4.6480</td>\n",
       "      <td>356.4620</td>\n",
       "      <td>g</td>\n",
       "    </tr>\n",
       "  </tbody>\n",
       "</table>\n",
       "</div>"
      ],
      "text/plain": [
       "    fLength    fWidth   fSize   fConc  fConc1     fAsym  fM3Long  fM3Trans  \\\n",
       "0   28.7967   16.0021  2.6449  0.3918  0.1982   27.7004  22.0110   -8.2027   \n",
       "1   31.6036   11.7235  2.5185  0.5303  0.3773   26.2722  23.8238   -9.9574   \n",
       "2  162.0520  136.0310  4.0612  0.0374  0.0187  116.7410 -64.8580  -45.2160   \n",
       "3   23.8172    9.5728  2.3385  0.6147  0.3922   27.2107  -6.4633   -7.1513   \n",
       "4   75.1362   30.9205  3.1611  0.3168  0.1832   -5.5277  28.5525   21.8393   \n",
       "\n",
       "    fAlpha     fDist class  \n",
       "0  40.0920   81.8828     g  \n",
       "1   6.3609  205.2610     g  \n",
       "2  76.9600  256.7880     g  \n",
       "3  10.4490  116.7370     g  \n",
       "4   4.6480  356.4620     g  "
      ]
     },
     "execution_count": 246,
     "metadata": {},
     "output_type": "execute_result"
    }
   ],
   "source": [
    "df.head()"
   ]
  },
  {
   "cell_type": "markdown",
   "id": "85117860",
   "metadata": {},
   "source": [
    "## Data Preprocessing"
   ]
  },
  {
   "cell_type": "markdown",
   "id": "228207aa",
   "metadata": {},
   "source": [
    "* #### Remove null and na values"
   ]
  },
  {
   "cell_type": "code",
   "execution_count": 247,
   "id": "fc619a7e",
   "metadata": {},
   "outputs": [
    {
     "data": {
      "text/html": [
       "<div>\n",
       "<style scoped>\n",
       "    .dataframe tbody tr th:only-of-type {\n",
       "        vertical-align: middle;\n",
       "    }\n",
       "\n",
       "    .dataframe tbody tr th {\n",
       "        vertical-align: top;\n",
       "    }\n",
       "\n",
       "    .dataframe thead th {\n",
       "        text-align: right;\n",
       "    }\n",
       "</style>\n",
       "<table border=\"1\" class=\"dataframe\">\n",
       "  <thead>\n",
       "    <tr style=\"text-align: right;\">\n",
       "      <th></th>\n",
       "      <th>fLength</th>\n",
       "      <th>fWidth</th>\n",
       "      <th>fSize</th>\n",
       "      <th>fConc</th>\n",
       "      <th>fConc1</th>\n",
       "      <th>fAsym</th>\n",
       "      <th>fM3Long</th>\n",
       "      <th>fM3Trans</th>\n",
       "      <th>fAlpha</th>\n",
       "      <th>fDist</th>\n",
       "      <th>class</th>\n",
       "    </tr>\n",
       "  </thead>\n",
       "  <tbody>\n",
       "    <tr>\n",
       "      <th>0</th>\n",
       "      <td>28.7967</td>\n",
       "      <td>16.0021</td>\n",
       "      <td>2.6449</td>\n",
       "      <td>0.3918</td>\n",
       "      <td>0.1982</td>\n",
       "      <td>27.7004</td>\n",
       "      <td>22.0110</td>\n",
       "      <td>-8.2027</td>\n",
       "      <td>40.0920</td>\n",
       "      <td>81.8828</td>\n",
       "      <td>g</td>\n",
       "    </tr>\n",
       "    <tr>\n",
       "      <th>1</th>\n",
       "      <td>31.6036</td>\n",
       "      <td>11.7235</td>\n",
       "      <td>2.5185</td>\n",
       "      <td>0.5303</td>\n",
       "      <td>0.3773</td>\n",
       "      <td>26.2722</td>\n",
       "      <td>23.8238</td>\n",
       "      <td>-9.9574</td>\n",
       "      <td>6.3609</td>\n",
       "      <td>205.2610</td>\n",
       "      <td>g</td>\n",
       "    </tr>\n",
       "    <tr>\n",
       "      <th>2</th>\n",
       "      <td>162.0520</td>\n",
       "      <td>136.0310</td>\n",
       "      <td>4.0612</td>\n",
       "      <td>0.0374</td>\n",
       "      <td>0.0187</td>\n",
       "      <td>116.7410</td>\n",
       "      <td>-64.8580</td>\n",
       "      <td>-45.2160</td>\n",
       "      <td>76.9600</td>\n",
       "      <td>256.7880</td>\n",
       "      <td>g</td>\n",
       "    </tr>\n",
       "    <tr>\n",
       "      <th>3</th>\n",
       "      <td>23.8172</td>\n",
       "      <td>9.5728</td>\n",
       "      <td>2.3385</td>\n",
       "      <td>0.6147</td>\n",
       "      <td>0.3922</td>\n",
       "      <td>27.2107</td>\n",
       "      <td>-6.4633</td>\n",
       "      <td>-7.1513</td>\n",
       "      <td>10.4490</td>\n",
       "      <td>116.7370</td>\n",
       "      <td>g</td>\n",
       "    </tr>\n",
       "    <tr>\n",
       "      <th>4</th>\n",
       "      <td>75.1362</td>\n",
       "      <td>30.9205</td>\n",
       "      <td>3.1611</td>\n",
       "      <td>0.3168</td>\n",
       "      <td>0.1832</td>\n",
       "      <td>-5.5277</td>\n",
       "      <td>28.5525</td>\n",
       "      <td>21.8393</td>\n",
       "      <td>4.6480</td>\n",
       "      <td>356.4620</td>\n",
       "      <td>g</td>\n",
       "    </tr>\n",
       "    <tr>\n",
       "      <th>...</th>\n",
       "      <td>...</td>\n",
       "      <td>...</td>\n",
       "      <td>...</td>\n",
       "      <td>...</td>\n",
       "      <td>...</td>\n",
       "      <td>...</td>\n",
       "      <td>...</td>\n",
       "      <td>...</td>\n",
       "      <td>...</td>\n",
       "      <td>...</td>\n",
       "      <td>...</td>\n",
       "    </tr>\n",
       "    <tr>\n",
       "      <th>19015</th>\n",
       "      <td>21.3846</td>\n",
       "      <td>10.9170</td>\n",
       "      <td>2.6161</td>\n",
       "      <td>0.5857</td>\n",
       "      <td>0.3934</td>\n",
       "      <td>15.2618</td>\n",
       "      <td>11.5245</td>\n",
       "      <td>2.8766</td>\n",
       "      <td>2.4229</td>\n",
       "      <td>106.8258</td>\n",
       "      <td>h</td>\n",
       "    </tr>\n",
       "    <tr>\n",
       "      <th>19016</th>\n",
       "      <td>28.9452</td>\n",
       "      <td>6.7020</td>\n",
       "      <td>2.2672</td>\n",
       "      <td>0.5351</td>\n",
       "      <td>0.2784</td>\n",
       "      <td>37.0816</td>\n",
       "      <td>13.1853</td>\n",
       "      <td>-2.9632</td>\n",
       "      <td>86.7975</td>\n",
       "      <td>247.4560</td>\n",
       "      <td>h</td>\n",
       "    </tr>\n",
       "    <tr>\n",
       "      <th>19017</th>\n",
       "      <td>75.4455</td>\n",
       "      <td>47.5305</td>\n",
       "      <td>3.4483</td>\n",
       "      <td>0.1417</td>\n",
       "      <td>0.0549</td>\n",
       "      <td>-9.3561</td>\n",
       "      <td>41.0562</td>\n",
       "      <td>-9.4662</td>\n",
       "      <td>30.2987</td>\n",
       "      <td>256.5166</td>\n",
       "      <td>h</td>\n",
       "    </tr>\n",
       "    <tr>\n",
       "      <th>19018</th>\n",
       "      <td>120.5135</td>\n",
       "      <td>76.9018</td>\n",
       "      <td>3.9939</td>\n",
       "      <td>0.0944</td>\n",
       "      <td>0.0683</td>\n",
       "      <td>5.8043</td>\n",
       "      <td>-93.5224</td>\n",
       "      <td>-63.8389</td>\n",
       "      <td>84.6874</td>\n",
       "      <td>408.3166</td>\n",
       "      <td>h</td>\n",
       "    </tr>\n",
       "    <tr>\n",
       "      <th>19019</th>\n",
       "      <td>187.1814</td>\n",
       "      <td>53.0014</td>\n",
       "      <td>3.2093</td>\n",
       "      <td>0.2876</td>\n",
       "      <td>0.1539</td>\n",
       "      <td>-167.3125</td>\n",
       "      <td>-168.4558</td>\n",
       "      <td>31.4755</td>\n",
       "      <td>52.7310</td>\n",
       "      <td>272.3174</td>\n",
       "      <td>h</td>\n",
       "    </tr>\n",
       "  </tbody>\n",
       "</table>\n",
       "<p>19020 rows × 11 columns</p>\n",
       "</div>"
      ],
      "text/plain": [
       "        fLength    fWidth   fSize   fConc  fConc1     fAsym   fM3Long  \\\n",
       "0       28.7967   16.0021  2.6449  0.3918  0.1982   27.7004   22.0110   \n",
       "1       31.6036   11.7235  2.5185  0.5303  0.3773   26.2722   23.8238   \n",
       "2      162.0520  136.0310  4.0612  0.0374  0.0187  116.7410  -64.8580   \n",
       "3       23.8172    9.5728  2.3385  0.6147  0.3922   27.2107   -6.4633   \n",
       "4       75.1362   30.9205  3.1611  0.3168  0.1832   -5.5277   28.5525   \n",
       "...         ...       ...     ...     ...     ...       ...       ...   \n",
       "19015   21.3846   10.9170  2.6161  0.5857  0.3934   15.2618   11.5245   \n",
       "19016   28.9452    6.7020  2.2672  0.5351  0.2784   37.0816   13.1853   \n",
       "19017   75.4455   47.5305  3.4483  0.1417  0.0549   -9.3561   41.0562   \n",
       "19018  120.5135   76.9018  3.9939  0.0944  0.0683    5.8043  -93.5224   \n",
       "19019  187.1814   53.0014  3.2093  0.2876  0.1539 -167.3125 -168.4558   \n",
       "\n",
       "       fM3Trans   fAlpha     fDist class  \n",
       "0       -8.2027  40.0920   81.8828     g  \n",
       "1       -9.9574   6.3609  205.2610     g  \n",
       "2      -45.2160  76.9600  256.7880     g  \n",
       "3       -7.1513  10.4490  116.7370     g  \n",
       "4       21.8393   4.6480  356.4620     g  \n",
       "...         ...      ...       ...   ...  \n",
       "19015    2.8766   2.4229  106.8258     h  \n",
       "19016   -2.9632  86.7975  247.4560     h  \n",
       "19017   -9.4662  30.2987  256.5166     h  \n",
       "19018  -63.8389  84.6874  408.3166     h  \n",
       "19019   31.4755  52.7310  272.3174     h  \n",
       "\n",
       "[19020 rows x 11 columns]"
      ]
     },
     "execution_count": 247,
     "metadata": {},
     "output_type": "execute_result"
    }
   ],
   "source": [
    "df.dropna()"
   ]
  },
  {
   "cell_type": "markdown",
   "id": "a75584cb",
   "metadata": {},
   "source": [
    "* #### Extract class column"
   ]
  },
  {
   "cell_type": "code",
   "execution_count": 248,
   "id": "7720d6e4",
   "metadata": {},
   "outputs": [],
   "source": [
    "classes = df['class']\n",
    "data_matrix = df.drop(columns='class')"
   ]
  },
  {
   "cell_type": "code",
   "execution_count": 249,
   "id": "63c9600c",
   "metadata": {},
   "outputs": [
    {
     "data": {
      "text/plain": [
       "0    g\n",
       "1    g\n",
       "2    g\n",
       "3    g\n",
       "4    g\n",
       "Name: class, dtype: object"
      ]
     },
     "execution_count": 249,
     "metadata": {},
     "output_type": "execute_result"
    }
   ],
   "source": [
    "classes.head()"
   ]
  },
  {
   "cell_type": "code",
   "execution_count": 250,
   "id": "ea909ed2",
   "metadata": {},
   "outputs": [
    {
     "data": {
      "text/html": [
       "<div>\n",
       "<style scoped>\n",
       "    .dataframe tbody tr th:only-of-type {\n",
       "        vertical-align: middle;\n",
       "    }\n",
       "\n",
       "    .dataframe tbody tr th {\n",
       "        vertical-align: top;\n",
       "    }\n",
       "\n",
       "    .dataframe thead th {\n",
       "        text-align: right;\n",
       "    }\n",
       "</style>\n",
       "<table border=\"1\" class=\"dataframe\">\n",
       "  <thead>\n",
       "    <tr style=\"text-align: right;\">\n",
       "      <th></th>\n",
       "      <th>fLength</th>\n",
       "      <th>fWidth</th>\n",
       "      <th>fSize</th>\n",
       "      <th>fConc</th>\n",
       "      <th>fConc1</th>\n",
       "      <th>fAsym</th>\n",
       "      <th>fM3Long</th>\n",
       "      <th>fM3Trans</th>\n",
       "      <th>fAlpha</th>\n",
       "      <th>fDist</th>\n",
       "    </tr>\n",
       "  </thead>\n",
       "  <tbody>\n",
       "    <tr>\n",
       "      <th>0</th>\n",
       "      <td>28.7967</td>\n",
       "      <td>16.0021</td>\n",
       "      <td>2.6449</td>\n",
       "      <td>0.3918</td>\n",
       "      <td>0.1982</td>\n",
       "      <td>27.7004</td>\n",
       "      <td>22.0110</td>\n",
       "      <td>-8.2027</td>\n",
       "      <td>40.0920</td>\n",
       "      <td>81.8828</td>\n",
       "    </tr>\n",
       "    <tr>\n",
       "      <th>1</th>\n",
       "      <td>31.6036</td>\n",
       "      <td>11.7235</td>\n",
       "      <td>2.5185</td>\n",
       "      <td>0.5303</td>\n",
       "      <td>0.3773</td>\n",
       "      <td>26.2722</td>\n",
       "      <td>23.8238</td>\n",
       "      <td>-9.9574</td>\n",
       "      <td>6.3609</td>\n",
       "      <td>205.2610</td>\n",
       "    </tr>\n",
       "    <tr>\n",
       "      <th>2</th>\n",
       "      <td>162.0520</td>\n",
       "      <td>136.0310</td>\n",
       "      <td>4.0612</td>\n",
       "      <td>0.0374</td>\n",
       "      <td>0.0187</td>\n",
       "      <td>116.7410</td>\n",
       "      <td>-64.8580</td>\n",
       "      <td>-45.2160</td>\n",
       "      <td>76.9600</td>\n",
       "      <td>256.7880</td>\n",
       "    </tr>\n",
       "    <tr>\n",
       "      <th>3</th>\n",
       "      <td>23.8172</td>\n",
       "      <td>9.5728</td>\n",
       "      <td>2.3385</td>\n",
       "      <td>0.6147</td>\n",
       "      <td>0.3922</td>\n",
       "      <td>27.2107</td>\n",
       "      <td>-6.4633</td>\n",
       "      <td>-7.1513</td>\n",
       "      <td>10.4490</td>\n",
       "      <td>116.7370</td>\n",
       "    </tr>\n",
       "    <tr>\n",
       "      <th>4</th>\n",
       "      <td>75.1362</td>\n",
       "      <td>30.9205</td>\n",
       "      <td>3.1611</td>\n",
       "      <td>0.3168</td>\n",
       "      <td>0.1832</td>\n",
       "      <td>-5.5277</td>\n",
       "      <td>28.5525</td>\n",
       "      <td>21.8393</td>\n",
       "      <td>4.6480</td>\n",
       "      <td>356.4620</td>\n",
       "    </tr>\n",
       "  </tbody>\n",
       "</table>\n",
       "</div>"
      ],
      "text/plain": [
       "    fLength    fWidth   fSize   fConc  fConc1     fAsym  fM3Long  fM3Trans  \\\n",
       "0   28.7967   16.0021  2.6449  0.3918  0.1982   27.7004  22.0110   -8.2027   \n",
       "1   31.6036   11.7235  2.5185  0.5303  0.3773   26.2722  23.8238   -9.9574   \n",
       "2  162.0520  136.0310  4.0612  0.0374  0.0187  116.7410 -64.8580  -45.2160   \n",
       "3   23.8172    9.5728  2.3385  0.6147  0.3922   27.2107  -6.4633   -7.1513   \n",
       "4   75.1362   30.9205  3.1611  0.3168  0.1832   -5.5277  28.5525   21.8393   \n",
       "\n",
       "    fAlpha     fDist  \n",
       "0  40.0920   81.8828  \n",
       "1   6.3609  205.2610  \n",
       "2  76.9600  256.7880  \n",
       "3  10.4490  116.7370  \n",
       "4   4.6480  356.4620  "
      ]
     },
     "execution_count": 250,
     "metadata": {},
     "output_type": "execute_result"
    }
   ],
   "source": [
    "data_matrix.head()"
   ]
  },
  {
   "cell_type": "markdown",
   "id": "26864ff9",
   "metadata": {},
   "source": [
    "## Data Exploration"
   ]
  },
  {
   "cell_type": "markdown",
   "id": "6557b52d",
   "metadata": {},
   "source": [
    "* #### Create a correlation matrix"
   ]
  },
  {
   "cell_type": "code",
   "execution_count": 251,
   "id": "92f0a6a1",
   "metadata": {},
   "outputs": [],
   "source": [
    "correlation_matrix = data_matrix.corr()"
   ]
  },
  {
   "cell_type": "code",
   "execution_count": 252,
   "id": "77bec661",
   "metadata": {},
   "outputs": [
    {
     "data": {
      "text/html": [
       "<div>\n",
       "<style scoped>\n",
       "    .dataframe tbody tr th:only-of-type {\n",
       "        vertical-align: middle;\n",
       "    }\n",
       "\n",
       "    .dataframe tbody tr th {\n",
       "        vertical-align: top;\n",
       "    }\n",
       "\n",
       "    .dataframe thead th {\n",
       "        text-align: right;\n",
       "    }\n",
       "</style>\n",
       "<table border=\"1\" class=\"dataframe\">\n",
       "  <thead>\n",
       "    <tr style=\"text-align: right;\">\n",
       "      <th></th>\n",
       "      <th>fLength</th>\n",
       "      <th>fWidth</th>\n",
       "      <th>fSize</th>\n",
       "      <th>fConc</th>\n",
       "      <th>fConc1</th>\n",
       "      <th>fAsym</th>\n",
       "      <th>fM3Long</th>\n",
       "      <th>fM3Trans</th>\n",
       "      <th>fAlpha</th>\n",
       "      <th>fDist</th>\n",
       "    </tr>\n",
       "  </thead>\n",
       "  <tbody>\n",
       "    <tr>\n",
       "      <th>fLength</th>\n",
       "      <td>1.000000</td>\n",
       "      <td>0.770512</td>\n",
       "      <td>0.702454</td>\n",
       "      <td>-0.630999</td>\n",
       "      <td>-0.598145</td>\n",
       "      <td>-0.368556</td>\n",
       "      <td>-0.119747</td>\n",
       "      <td>0.013389</td>\n",
       "      <td>-0.008777</td>\n",
       "      <td>0.418466</td>\n",
       "    </tr>\n",
       "    <tr>\n",
       "      <th>fWidth</th>\n",
       "      <td>0.770512</td>\n",
       "      <td>1.000000</td>\n",
       "      <td>0.717517</td>\n",
       "      <td>-0.609779</td>\n",
       "      <td>-0.581141</td>\n",
       "      <td>-0.266961</td>\n",
       "      <td>-0.176234</td>\n",
       "      <td>0.039744</td>\n",
       "      <td>0.066061</td>\n",
       "      <td>0.336816</td>\n",
       "    </tr>\n",
       "    <tr>\n",
       "      <th>fSize</th>\n",
       "      <td>0.702454</td>\n",
       "      <td>0.717517</td>\n",
       "      <td>1.000000</td>\n",
       "      <td>-0.850850</td>\n",
       "      <td>-0.808835</td>\n",
       "      <td>-0.159863</td>\n",
       "      <td>0.095157</td>\n",
       "      <td>0.015455</td>\n",
       "      <td>-0.186675</td>\n",
       "      <td>0.437041</td>\n",
       "    </tr>\n",
       "    <tr>\n",
       "      <th>fConc</th>\n",
       "      <td>-0.630999</td>\n",
       "      <td>-0.609779</td>\n",
       "      <td>-0.850850</td>\n",
       "      <td>1.000000</td>\n",
       "      <td>0.976412</td>\n",
       "      <td>0.112272</td>\n",
       "      <td>-0.121899</td>\n",
       "      <td>-0.011294</td>\n",
       "      <td>0.235272</td>\n",
       "      <td>-0.328332</td>\n",
       "    </tr>\n",
       "    <tr>\n",
       "      <th>fConc1</th>\n",
       "      <td>-0.598145</td>\n",
       "      <td>-0.581141</td>\n",
       "      <td>-0.808835</td>\n",
       "      <td>0.976412</td>\n",
       "      <td>1.000000</td>\n",
       "      <td>0.100159</td>\n",
       "      <td>-0.118769</td>\n",
       "      <td>-0.010966</td>\n",
       "      <td>0.229799</td>\n",
       "      <td>-0.304625</td>\n",
       "    </tr>\n",
       "    <tr>\n",
       "      <th>fAsym</th>\n",
       "      <td>-0.368556</td>\n",
       "      <td>-0.266961</td>\n",
       "      <td>-0.159863</td>\n",
       "      <td>0.112272</td>\n",
       "      <td>0.100159</td>\n",
       "      <td>1.000000</td>\n",
       "      <td>0.274045</td>\n",
       "      <td>0.002553</td>\n",
       "      <td>-0.055689</td>\n",
       "      <td>-0.206730</td>\n",
       "    </tr>\n",
       "    <tr>\n",
       "      <th>fM3Long</th>\n",
       "      <td>-0.119747</td>\n",
       "      <td>-0.176234</td>\n",
       "      <td>0.095157</td>\n",
       "      <td>-0.121899</td>\n",
       "      <td>-0.118769</td>\n",
       "      <td>0.274045</td>\n",
       "      <td>1.000000</td>\n",
       "      <td>-0.017197</td>\n",
       "      <td>-0.186275</td>\n",
       "      <td>0.037025</td>\n",
       "    </tr>\n",
       "    <tr>\n",
       "      <th>fM3Trans</th>\n",
       "      <td>0.013389</td>\n",
       "      <td>0.039744</td>\n",
       "      <td>0.015455</td>\n",
       "      <td>-0.011294</td>\n",
       "      <td>-0.010966</td>\n",
       "      <td>0.002553</td>\n",
       "      <td>-0.017197</td>\n",
       "      <td>1.000000</td>\n",
       "      <td>0.004659</td>\n",
       "      <td>0.011427</td>\n",
       "    </tr>\n",
       "    <tr>\n",
       "      <th>fAlpha</th>\n",
       "      <td>-0.008777</td>\n",
       "      <td>0.066061</td>\n",
       "      <td>-0.186675</td>\n",
       "      <td>0.235272</td>\n",
       "      <td>0.229799</td>\n",
       "      <td>-0.055689</td>\n",
       "      <td>-0.186275</td>\n",
       "      <td>0.004659</td>\n",
       "      <td>1.000000</td>\n",
       "      <td>-0.220556</td>\n",
       "    </tr>\n",
       "    <tr>\n",
       "      <th>fDist</th>\n",
       "      <td>0.418466</td>\n",
       "      <td>0.336816</td>\n",
       "      <td>0.437041</td>\n",
       "      <td>-0.328332</td>\n",
       "      <td>-0.304625</td>\n",
       "      <td>-0.206730</td>\n",
       "      <td>0.037025</td>\n",
       "      <td>0.011427</td>\n",
       "      <td>-0.220556</td>\n",
       "      <td>1.000000</td>\n",
       "    </tr>\n",
       "  </tbody>\n",
       "</table>\n",
       "</div>"
      ],
      "text/plain": [
       "           fLength    fWidth     fSize     fConc    fConc1     fAsym  \\\n",
       "fLength   1.000000  0.770512  0.702454 -0.630999 -0.598145 -0.368556   \n",
       "fWidth    0.770512  1.000000  0.717517 -0.609779 -0.581141 -0.266961   \n",
       "fSize     0.702454  0.717517  1.000000 -0.850850 -0.808835 -0.159863   \n",
       "fConc    -0.630999 -0.609779 -0.850850  1.000000  0.976412  0.112272   \n",
       "fConc1   -0.598145 -0.581141 -0.808835  0.976412  1.000000  0.100159   \n",
       "fAsym    -0.368556 -0.266961 -0.159863  0.112272  0.100159  1.000000   \n",
       "fM3Long  -0.119747 -0.176234  0.095157 -0.121899 -0.118769  0.274045   \n",
       "fM3Trans  0.013389  0.039744  0.015455 -0.011294 -0.010966  0.002553   \n",
       "fAlpha   -0.008777  0.066061 -0.186675  0.235272  0.229799 -0.055689   \n",
       "fDist     0.418466  0.336816  0.437041 -0.328332 -0.304625 -0.206730   \n",
       "\n",
       "           fM3Long  fM3Trans    fAlpha     fDist  \n",
       "fLength  -0.119747  0.013389 -0.008777  0.418466  \n",
       "fWidth   -0.176234  0.039744  0.066061  0.336816  \n",
       "fSize     0.095157  0.015455 -0.186675  0.437041  \n",
       "fConc    -0.121899 -0.011294  0.235272 -0.328332  \n",
       "fConc1   -0.118769 -0.010966  0.229799 -0.304625  \n",
       "fAsym     0.274045  0.002553 -0.055689 -0.206730  \n",
       "fM3Long   1.000000 -0.017197 -0.186275  0.037025  \n",
       "fM3Trans -0.017197  1.000000  0.004659  0.011427  \n",
       "fAlpha   -0.186275  0.004659  1.000000 -0.220556  \n",
       "fDist     0.037025  0.011427 -0.220556  1.000000  "
      ]
     },
     "execution_count": 252,
     "metadata": {},
     "output_type": "execute_result"
    }
   ],
   "source": [
    "correlation_matrix"
   ]
  },
  {
   "cell_type": "code",
   "execution_count": 253,
   "id": "12a26490",
   "metadata": {},
   "outputs": [
    {
     "data": {
      "image/png": "[encoded data removed]",
      "text/plain": [
       "<Figure size 640x480 with 2 Axes>"
      ]
     },
     "metadata": {},
     "output_type": "display_data"
    }
   ],
   "source": [
    "# show correlation matrix as a heatmap\n",
    "ax = plt.axes()\n",
    "sns.heatmap(correlation_matrix, cmap='Greens', ax=ax)\n",
    "ax.set_title('correlation matrix of data_matrix')\n",
    "plt.show()"
   ]
  },
  {
   "cell_type": "markdown",
   "id": "ad1d2763",
   "metadata": {},
   "source": [
    "* #### Perform eigendecomposition."
   ]
  },
  {
   "cell_type": "code",
   "execution_count": 254,
   "id": "9d966ed2",
   "metadata": {},
   "outputs": [
    {
     "name": "stdout",
     "output_type": "stream",
     "text": [
      "Eigenvalues length: 10, Original Number of Features: 10\n"
     ]
    }
   ],
   "source": [
    "eigenvalues, eigenvectors = np.linalg.eig(correlation_matrix)\n",
    "print(f'Eigenvalues length: {eigenvalues.size}, Original Number of Features: {data_matrix.shape[1]}')"
   ]
  },
  {
   "cell_type": "code",
   "execution_count": 255,
   "id": "3b9b0d6e",
   "metadata": {},
   "outputs": [
    {
     "name": "stdout",
     "output_type": "stream",
     "text": [
      "Eigenvalues.shape : (10,)\n",
      "Eigenvectors shape : (10, 10)\n"
     ]
    }
   ],
   "source": [
    "# Order the eigenvalues by ordering the indices of the eigenvalues\n",
    "indices = eigenvalues.argsort()[::-1]  \n",
    "eigenvalues = eigenvalues[indices]\n",
    "eigenvectors = eigenvectors[:, indices]\n",
    "\n",
    "print(f'Eigenvalues.shape : {eigenvalues.shape}\\nEigenvectors shape : {eigenvectors.shape}')"
   ]
  },
  {
   "cell_type": "markdown",
   "id": "63814731",
   "metadata": {},
   "source": [
    "* #### Find the variance/information percentages for each Eigenvalue "
   ]
  },
  {
   "cell_type": "code",
   "execution_count": 256,
   "id": "6b17fa1d",
   "metadata": {},
   "outputs": [],
   "source": [
    "information_proportions = eigenvalues / eigenvalues.sum()\n",
    "information_percents = information_proportions * 100"
   ]
  },
  {
   "cell_type": "code",
   "execution_count": 257,
   "id": "5ca28309",
   "metadata": {},
   "outputs": [
    {
     "data": {
      "text/plain": [
       "[<matplotlib.lines.Line2D at 0x276444d0070>]"
      ]
     },
     "execution_count": 257,
     "metadata": {},
     "output_type": "execute_result"
    },
    {
     "data": {
      "image/png": "[encoded data removed]",
      "text/plain": [
       "<Figure size 640x480 with 1 Axes>"
      ]
     },
     "metadata": {},
     "output_type": "display_data"
    }
   ],
   "source": [
    "# Plot the principal axes vs the information proportions for each principal axis\n",
    "plt.figure()\n",
    "plt.plot(information_percents, 'ro-', linewidth=2)"
   ]
  },
  {
   "cell_type": "markdown",
   "id": "7a0a5636",
   "metadata": {},
   "source": [
    "* #### Find the cumulative variance/information percentages for each Eigenvalue"
   ]
  },
  {
   "cell_type": "code",
   "execution_count": 258,
   "id": "8d91efbb",
   "metadata": {},
   "outputs": [],
   "source": [
    "# Find the cumulative sum of the percentages\n",
    "cumulative_information_percents = np.cumsum(information_percents)"
   ]
  },
  {
   "cell_type": "code",
   "execution_count": 259,
   "id": "4faa11df",
   "metadata": {},
   "outputs": [
    {
     "data": {
      "text/plain": [
       "[<matplotlib.lines.Line2D at 0x27644546da0>]"
      ]
     },
     "execution_count": 259,
     "metadata": {},
     "output_type": "execute_result"
    },
    {
     "data": {
      "image/png": "[encoded data removed]",
      "text/plain": [
       "<Figure size 640x480 with 1 Axes>"
      ]
     },
     "metadata": {},
     "output_type": "display_data"
    }
   ],
   "source": [
    "plt.figure()\n",
    "plt.plot(cumulative_information_percents, 'ro-', linewidth=2)"
   ]
  },
  {
   "cell_type": "markdown",
   "id": "e5f6f452",
   "metadata": {},
   "source": [
    "## Perform PCA"
   ]
  },
  {
   "cell_type": "markdown",
   "id": "3773f754",
   "metadata": {},
   "source": [
    "* #### Standardize the data matrix"
   ]
  },
  {
   "cell_type": "code",
   "execution_count": 260,
   "id": "6051b691",
   "metadata": {},
   "outputs": [],
   "source": [
    "# Standardize the data matrix\n",
    "mean = data_matrix.mean(axis=0)\n",
    "sttd = data_matrix.std(axis=0)\n",
    "data_matrix_standardized = (data_matrix - mean) / sttd"
   ]
  },
  {
   "cell_type": "code",
   "execution_count": 261,
   "id": "4c1fcee5",
   "metadata": {},
   "outputs": [
    {
     "data": {
      "text/html": [
       "<div>\n",
       "<style scoped>\n",
       "    .dataframe tbody tr th:only-of-type {\n",
       "        vertical-align: middle;\n",
       "    }\n",
       "\n",
       "    .dataframe tbody tr th {\n",
       "        vertical-align: top;\n",
       "    }\n",
       "\n",
       "    .dataframe thead th {\n",
       "        text-align: right;\n",
       "    }\n",
       "</style>\n",
       "<table border=\"1\" class=\"dataframe\">\n",
       "  <thead>\n",
       "    <tr style=\"text-align: right;\">\n",
       "      <th></th>\n",
       "      <th>fLength</th>\n",
       "      <th>fWidth</th>\n",
       "      <th>fSize</th>\n",
       "      <th>fConc</th>\n",
       "      <th>fConc1</th>\n",
       "      <th>fAsym</th>\n",
       "      <th>fM3Long</th>\n",
       "      <th>fM3Trans</th>\n",
       "      <th>fAlpha</th>\n",
       "      <th>fDist</th>\n",
       "    </tr>\n",
       "  </thead>\n",
       "  <tbody>\n",
       "    <tr>\n",
       "      <th>0</th>\n",
       "      <td>-0.577211</td>\n",
       "      <td>-0.336795</td>\n",
       "      <td>-0.381120</td>\n",
       "      <td>0.062758</td>\n",
       "      <td>-0.148919</td>\n",
       "      <td>0.541028</td>\n",
       "      <td>0.224812</td>\n",
       "      <td>-0.405831</td>\n",
       "      <td>0.476803</td>\n",
       "      <td>-1.497826</td>\n",
       "    </tr>\n",
       "    <tr>\n",
       "      <th>1</th>\n",
       "      <td>-0.510955</td>\n",
       "      <td>-0.570012</td>\n",
       "      <td>-0.648578</td>\n",
       "      <td>0.820362</td>\n",
       "      <td>1.471737</td>\n",
       "      <td>0.516906</td>\n",
       "      <td>0.260357</td>\n",
       "      <td>-0.490081</td>\n",
       "      <td>-0.815397</td>\n",
       "      <td>0.153121</td>\n",
       "    </tr>\n",
       "    <tr>\n",
       "      <th>2</th>\n",
       "      <td>2.568210</td>\n",
       "      <td>6.205695</td>\n",
       "      <td>2.615714</td>\n",
       "      <td>-1.875834</td>\n",
       "      <td>-1.773194</td>\n",
       "      <td>2.044938</td>\n",
       "      <td>-1.478497</td>\n",
       "      <td>-2.182972</td>\n",
       "      <td>1.889174</td>\n",
       "      <td>0.842613</td>\n",
       "    </tr>\n",
       "    <tr>\n",
       "      <th>3</th>\n",
       "      <td>-0.694749</td>\n",
       "      <td>-0.687241</td>\n",
       "      <td>-1.029451</td>\n",
       "      <td>1.282035</td>\n",
       "      <td>1.606566</td>\n",
       "      <td>0.532757</td>\n",
       "      <td>-0.333506</td>\n",
       "      <td>-0.355350</td>\n",
       "      <td>-0.658786</td>\n",
       "      <td>-1.031436</td>\n",
       "    </tr>\n",
       "    <tr>\n",
       "      <th>4</th>\n",
       "      <td>0.516609</td>\n",
       "      <td>0.476371</td>\n",
       "      <td>0.711138</td>\n",
       "      <td>-0.347497</td>\n",
       "      <td>-0.284652</td>\n",
       "      <td>-0.020200</td>\n",
       "      <td>0.353077</td>\n",
       "      <td>1.036593</td>\n",
       "      <td>-0.881016</td>\n",
       "      <td>2.176369</td>\n",
       "    </tr>\n",
       "  </tbody>\n",
       "</table>\n",
       "</div>"
      ],
      "text/plain": [
       "    fLength    fWidth     fSize     fConc    fConc1     fAsym   fM3Long  \\\n",
       "0 -0.577211 -0.336795 -0.381120  0.062758 -0.148919  0.541028  0.224812   \n",
       "1 -0.510955 -0.570012 -0.648578  0.820362  1.471737  0.516906  0.260357   \n",
       "2  2.568210  6.205695  2.615714 -1.875834 -1.773194  2.044938 -1.478497   \n",
       "3 -0.694749 -0.687241 -1.029451  1.282035  1.606566  0.532757 -0.333506   \n",
       "4  0.516609  0.476371  0.711138 -0.347497 -0.284652 -0.020200  0.353077   \n",
       "\n",
       "   fM3Trans    fAlpha     fDist  \n",
       "0 -0.405831  0.476803 -1.497826  \n",
       "1 -0.490081 -0.815397  0.153121  \n",
       "2 -2.182972  1.889174  0.842613  \n",
       "3 -0.355350 -0.658786 -1.031436  \n",
       "4  1.036593 -0.881016  2.176369  "
      ]
     },
     "execution_count": 261,
     "metadata": {},
     "output_type": "execute_result"
    }
   ],
   "source": [
    "data_matrix_standardized.head()"
   ]
  },
  {
   "cell_type": "markdown",
   "id": "2e3607b3",
   "metadata": {},
   "source": [
    "* #### Perform PCA by fitting and transforming the standardized data matrix."
   ]
  },
  {
   "cell_type": "code",
   "execution_count": 262,
   "id": "604e175a",
   "metadata": {},
   "outputs": [],
   "source": [
    "# Calculating principal components with 2 components\n",
    "pca = PCA(n_components=2) "
   ]
  },
  {
   "cell_type": "code",
   "execution_count": 263,
   "id": "10726ddc",
   "metadata": {},
   "outputs": [],
   "source": [
    "principal_components = pca.fit_transform(data_matrix_standardized)"
   ]
  },
  {
   "cell_type": "code",
   "execution_count": 264,
   "id": "4dc0636a",
   "metadata": {},
   "outputs": [
    {
     "name": "stdout",
     "output_type": "stream",
     "text": [
      "Number of Principal Components Features: 2\n",
      "Number of Original Data Features: 10\n"
     ]
    }
   ],
   "source": [
    "print(f'Number of Principal Components Features: {principal_components.shape[1]}')\n",
    "print(f'Number of Original Data Features: {data_matrix_standardized.shape[1]}')"
   ]
  },
  {
   "cell_type": "code",
   "execution_count": 265,
   "id": "ff0da2e2",
   "metadata": {},
   "outputs": [
    {
     "data": {
      "image/png": "[encoded data removed]",
      "text/plain": [
       "<Figure size 558.875x500 with 1 Axes>"
      ]
     },
     "metadata": {},
     "output_type": "display_data"
    }
   ],
   "source": [
    "# Plot the principal components as a scatterplot\n",
    "principal_components_data = pd.DataFrame({\n",
    "    'PC1': principal_components[:, 0],\n",
    "    'PC2': principal_components[:, 1],\n",
    "    'class': classes,\n",
    "})\n",
    "\n",
    "sns.lmplot(x='PC1', y='PC2', data=principal_components_data, hue='class', fit_reg=False)\n",
    "plt.show()"
   ]
  },
  {
   "cell_type": "markdown",
   "id": "9e17bb73",
   "metadata": {},
   "source": [
    "## Build classification model"
   ]
  },
  {
   "cell_type": "markdown",
   "id": "b2a2410d",
   "metadata": {},
   "source": [
    "* #### Create a Linear Support Vector Classifier (Linear SVC) with the PCA features\n",
    "fit the classifier with the first two features of the original standardized data matrix and generate a score"
   ]
  },
  {
   "cell_type": "markdown",
   "id": "2956b2c8",
   "metadata": {},
   "source": [
    "splitting the data"
   ]
  },
  {
   "cell_type": "code",
   "execution_count": 266,
   "id": "42bd09de",
   "metadata": {},
   "outputs": [],
   "source": [
    "# Perform PCA using 2 components\n",
    "pca_1 = PCA(n_components=2) "
   ]
  },
  {
   "cell_type": "code",
   "execution_count": 267,
   "id": "1e772ccb",
   "metadata": {},
   "outputs": [],
   "source": [
    "# Use the principal components as X\n",
    "X = pca_1.fit_transform(data_matrix_standardized) "
   ]
  },
  {
   "cell_type": "code",
   "execution_count": 268,
   "id": "5e10add6",
   "metadata": {},
   "outputs": [],
   "source": [
    "# Use the one-hot-encoded classes as the y\n",
    "y = classes.astype('category').cat.codes"
   ]
  },
  {
   "cell_type": "code",
   "execution_count": 269,
   "id": "399e53f9",
   "metadata": {},
   "outputs": [],
   "source": [
    "# Use the principal components as X and split the data into 33% testing and the rest training\n",
    "X_train, X_test, y_train, y_test = train_test_split(X, y, test_size=0.33, random_state=42)"
   ]
  },
  {
   "cell_type": "markdown",
   "id": "3ec3b3eb",
   "metadata": {},
   "source": [
    "Create the Linear SVC"
   ]
  },
  {
   "cell_type": "code",
   "execution_count": 270,
   "id": "dbe8371a",
   "metadata": {},
   "outputs": [
    {
     "name": "stderr",
     "output_type": "stream",
     "text": [
      "C:\\Users\\CHANG\\anaconda3\\lib\\site-packages\\sklearn\\svm\\_classes.py:32: FutureWarning: The default value of `dual` will change from `True` to `'auto'` in 1.5. Set the value of `dual` explicitly to suppress the warning.\n",
      "  warnings.warn(\n",
      "C:\\Users\\CHANG\\anaconda3\\lib\\site-packages\\sklearn\\svm\\_base.py:1250: ConvergenceWarning: Liblinear failed to converge, increase the number of iterations.\n",
      "  warnings.warn(\n"
     ]
    },
    {
     "data": {
      "text/html": [
       "<style>#sk-container-id-12 {color: black;}#sk-container-id-12 pre{padding: 0;}#sk-container-id-12 div.sk-toggleable {background-color: white;}#sk-container-id-12 label.sk-toggleable__label {cursor: pointer;display: block;width: 100%;margin-bottom: 0;padding: 0.3em;box-sizing: border-box;text-align: center;}#sk-container-id-12 label.sk-toggleable__label-arrow:before {content: \"▸\";float: left;margin-right: 0.25em;color: #696969;}#sk-container-id-12 label.sk-toggleable__label-arrow:hover:before {color: black;}#sk-container-id-12 div.sk-estimator:hover label.sk-toggleable__label-arrow:before {color: black;}#sk-container-id-12 div.sk-toggleable__content {max-height: 0;max-width: 0;overflow: hidden;text-align: left;background-color: #f0f8ff;}#sk-container-id-12 div.sk-toggleable__content pre {margin: 0.2em;color: black;border-radius: 0.25em;background-color: #f0f8ff;}#sk-container-id-12 input.sk-toggleable__control:checked~div.sk-toggleable__content {max-height: 200px;max-width: 100%;overflow: auto;}#sk-container-id-12 input.sk-toggleable__control:checked~label.sk-toggleable__label-arrow:before {content: \"▾\";}#sk-container-id-12 div.sk-estimator input.sk-toggleable__control:checked~label.sk-toggleable__label {background-color: #d4ebff;}#sk-container-id-12 div.sk-label input.sk-toggleable__control:checked~label.sk-toggleable__label {background-color: #d4ebff;}#sk-container-id-12 input.sk-hidden--visually {border: 0;clip: rect(1px 1px 1px 1px);clip: rect(1px, 1px, 1px, 1px);height: 1px;margin: -1px;overflow: hidden;padding: 0;position: absolute;width: 1px;}#sk-container-id-12 div.sk-estimator {font-family: monospace;background-color: #f0f8ff;border: 1px dotted black;border-radius: 0.25em;box-sizing: border-box;margin-bottom: 0.5em;}#sk-container-id-12 div.sk-estimator:hover {background-color: #d4ebff;}#sk-container-id-12 div.sk-parallel-item::after {content: \"\";width: 100%;border-bottom: 1px solid gray;flex-grow: 1;}#sk-container-id-12 div.sk-label:hover label.sk-toggleable__label {background-color: #d4ebff;}#sk-container-id-12 div.sk-serial::before {content: \"\";position: absolute;border-left: 1px solid gray;box-sizing: border-box;top: 0;bottom: 0;left: 50%;z-index: 0;}#sk-container-id-12 div.sk-serial {display: flex;flex-direction: column;align-items: center;background-color: white;padding-right: 0.2em;padding-left: 0.2em;position: relative;}#sk-container-id-12 div.sk-item {position: relative;z-index: 1;}#sk-container-id-12 div.sk-parallel {display: flex;align-items: stretch;justify-content: center;background-color: white;position: relative;}#sk-container-id-12 div.sk-item::before, #sk-container-id-12 div.sk-parallel-item::before {content: \"\";position: absolute;border-left: 1px solid gray;box-sizing: border-box;top: 0;bottom: 0;left: 50%;z-index: -1;}#sk-container-id-12 div.sk-parallel-item {display: flex;flex-direction: column;z-index: 1;position: relative;background-color: white;}#sk-container-id-12 div.sk-parallel-item:first-child::after {align-self: flex-end;width: 50%;}#sk-container-id-12 div.sk-parallel-item:last-child::after {align-self: flex-start;width: 50%;}#sk-container-id-12 div.sk-parallel-item:only-child::after {width: 0;}#sk-container-id-12 div.sk-dashed-wrapped {border: 1px dashed gray;margin: 0 0.4em 0.5em 0.4em;box-sizing: border-box;padding-bottom: 0.4em;background-color: white;}#sk-container-id-12 div.sk-label label {font-family: monospace;font-weight: bold;display: inline-block;line-height: 1.2em;}#sk-container-id-12 div.sk-label-container {text-align: center;}#sk-container-id-12 div.sk-container {/* jupyter's `normalize.less` sets `[hidden] { display: none; }` but bootstrap.min.css set `[hidden] { display: none !important; }` so we also need the `!important` here to be able to override the default hidden behavior on the sphinx rendered scikit-learn.org. See: https://github.com/scikit-learn/scikit-learn/issues/21755 */display: inline-block !important;position: relative;}#sk-container-id-12 div.sk-text-repr-fallback {display: none;}</style><div id=\"sk-container-id-12\" class=\"sk-top-container\"><div class=\"sk-text-repr-fallback\"><pre>LinearSVC(random_state=0, tol=1e-05)</pre><b>In a Jupyter environment, please rerun this cell to show the HTML representation or trust the notebook. <br />On GitHub, the HTML representation is unable to render, please try loading this page with nbviewer.org.</b></div><div class=\"sk-container\" hidden><div class=\"sk-item\"><div class=\"sk-estimator sk-toggleable\"><input class=\"sk-toggleable__control sk-hidden--visually\" id=\"sk-estimator-id-12\" type=\"checkbox\" checked><label for=\"sk-estimator-id-12\" class=\"sk-toggleable__label sk-toggleable__label-arrow\">LinearSVC</label><div class=\"sk-toggleable__content\"><pre>LinearSVC(random_state=0, tol=1e-05)</pre></div></div></div></div></div>"
      ],
      "text/plain": [
       "LinearSVC(random_state=0, tol=1e-05)"
      ]
     },
     "execution_count": 270,
     "metadata": {},
     "output_type": "execute_result"
    }
   ],
   "source": [
    "svc_1 = LinearSVC(random_state=0, tol=1e-5)\n",
    "svc_1.fit(X_train, y_train)"
   ]
  },
  {
   "cell_type": "markdown",
   "id": "a7a2c4ba",
   "metadata": {},
   "source": [
    "Evaluate Performance (Precision, Recall, F1 Score)"
   ]
  },
  {
   "cell_type": "code",
   "execution_count": 271,
   "id": "fafd099a",
   "metadata": {},
   "outputs": [],
   "source": [
    "# create confusion matrix to find precision and recall\n",
    "predicted_y = svc_1.predict(X_test)\n",
    "tn, fp, fn, tp = confusion_matrix(y_test, predicted_y).ravel()\n",
    "precision_score = tp / (tp + fp)\n",
    "recall_score = tp / (tp + fn)\n",
    "f1_score = (2*precision_score*recall_score)/(precision_score+recall_score)"
   ]
  },
  {
   "cell_type": "code",
   "execution_count": 272,
   "id": "9bd5987a",
   "metadata": {},
   "outputs": [],
   "source": [
    "svc1_performance = pd.DataFrame(['with 2 PCA features', precision_score, recall_score, f1_score]).transpose()\n",
    "svc1_performance.columns = ['Linear SVC', 'Precision Score', 'Recall Score', 'F1 Score']\n",
    "svc1_performance.set_index('Linear SVC', inplace=True)"
   ]
  },
  {
   "cell_type": "code",
   "execution_count": 273,
   "id": "2c142c76",
   "metadata": {},
   "outputs": [
    {
     "data": {
      "text/html": [
       "<div>\n",
       "<style scoped>\n",
       "    .dataframe tbody tr th:only-of-type {\n",
       "        vertical-align: middle;\n",
       "    }\n",
       "\n",
       "    .dataframe tbody tr th {\n",
       "        vertical-align: top;\n",
       "    }\n",
       "\n",
       "    .dataframe thead th {\n",
       "        text-align: right;\n",
       "    }\n",
       "</style>\n",
       "<table border=\"1\" class=\"dataframe\">\n",
       "  <thead>\n",
       "    <tr style=\"text-align: right;\">\n",
       "      <th></th>\n",
       "      <th>Precision Score</th>\n",
       "      <th>Recall Score</th>\n",
       "      <th>F1 Score</th>\n",
       "    </tr>\n",
       "    <tr>\n",
       "      <th>Linear SVC</th>\n",
       "      <th></th>\n",
       "      <th></th>\n",
       "      <th></th>\n",
       "    </tr>\n",
       "  </thead>\n",
       "  <tbody>\n",
       "    <tr>\n",
       "      <th>with 2 PCA features</th>\n",
       "      <td>0.769585</td>\n",
       "      <td>0.378513</td>\n",
       "      <td>0.507445</td>\n",
       "    </tr>\n",
       "  </tbody>\n",
       "</table>\n",
       "</div>"
      ],
      "text/plain": [
       "                    Precision Score Recall Score  F1 Score\n",
       "Linear SVC                                                \n",
       "with 2 PCA features        0.769585     0.378513  0.507445"
      ]
     },
     "execution_count": 273,
     "metadata": {},
     "output_type": "execute_result"
    }
   ],
   "source": [
    "svc1_performance"
   ]
  },
  {
   "cell_type": "markdown",
   "id": "be8c2bff",
   "metadata": {},
   "source": [
    "* #### Create a Linear SVC with the original data features"
   ]
  },
  {
   "cell_type": "markdown",
   "id": "7ce6f5b9",
   "metadata": {},
   "source": [
    "splitting the data"
   ]
  },
  {
   "cell_type": "code",
   "execution_count": 274,
   "id": "da3a7155",
   "metadata": {},
   "outputs": [],
   "source": [
    "first_two_original_features = [0, 1]\n",
    "X_original = data_matrix_standardized.iloc[:, first_two_original_features]"
   ]
  },
  {
   "cell_type": "code",
   "execution_count": 275,
   "id": "ddbf706b",
   "metadata": {},
   "outputs": [],
   "source": [
    "# Split the data intro 33% testing and the rest training\n",
    "X_train, X_test, y_train, y_test = train_test_split(X_original, y, test_size=0.33, random_state=42)"
   ]
  },
  {
   "cell_type": "markdown",
   "id": "51dbfb72",
   "metadata": {},
   "source": [
    "Create the Linear SVC"
   ]
  },
  {
   "cell_type": "code",
   "execution_count": 281,
   "id": "dfcd9a02",
   "metadata": {},
   "outputs": [
    {
     "name": "stderr",
     "output_type": "stream",
     "text": [
      "C:\\Users\\CHANG\\anaconda3\\lib\\site-packages\\sklearn\\svm\\_classes.py:32: FutureWarning: The default value of `dual` will change from `True` to `'auto'` in 1.5. Set the value of `dual` explicitly to suppress the warning.\n",
      "  warnings.warn(\n",
      "C:\\Users\\CHANG\\anaconda3\\lib\\site-packages\\sklearn\\svm\\_base.py:1250: ConvergenceWarning: Liblinear failed to converge, increase the number of iterations.\n",
      "  warnings.warn(\n"
     ]
    },
    {
     "data": {
      "text/html": [
       "<style>#sk-container-id-14 {color: black;}#sk-container-id-14 pre{padding: 0;}#sk-container-id-14 div.sk-toggleable {background-color: white;}#sk-container-id-14 label.sk-toggleable__label {cursor: pointer;display: block;width: 100%;margin-bottom: 0;padding: 0.3em;box-sizing: border-box;text-align: center;}#sk-container-id-14 label.sk-toggleable__label-arrow:before {content: \"▸\";float: left;margin-right: 0.25em;color: #696969;}#sk-container-id-14 label.sk-toggleable__label-arrow:hover:before {color: black;}#sk-container-id-14 div.sk-estimator:hover label.sk-toggleable__label-arrow:before {color: black;}#sk-container-id-14 div.sk-toggleable__content {max-height: 0;max-width: 0;overflow: hidden;text-align: left;background-color: #f0f8ff;}#sk-container-id-14 div.sk-toggleable__content pre {margin: 0.2em;color: black;border-radius: 0.25em;background-color: #f0f8ff;}#sk-container-id-14 input.sk-toggleable__control:checked~div.sk-toggleable__content {max-height: 200px;max-width: 100%;overflow: auto;}#sk-container-id-14 input.sk-toggleable__control:checked~label.sk-toggleable__label-arrow:before {content: \"▾\";}#sk-container-id-14 div.sk-estimator input.sk-toggleable__control:checked~label.sk-toggleable__label {background-color: #d4ebff;}#sk-container-id-14 div.sk-label input.sk-toggleable__control:checked~label.sk-toggleable__label {background-color: #d4ebff;}#sk-container-id-14 input.sk-hidden--visually {border: 0;clip: rect(1px 1px 1px 1px);clip: rect(1px, 1px, 1px, 1px);height: 1px;margin: -1px;overflow: hidden;padding: 0;position: absolute;width: 1px;}#sk-container-id-14 div.sk-estimator {font-family: monospace;background-color: #f0f8ff;border: 1px dotted black;border-radius: 0.25em;box-sizing: border-box;margin-bottom: 0.5em;}#sk-container-id-14 div.sk-estimator:hover {background-color: #d4ebff;}#sk-container-id-14 div.sk-parallel-item::after {content: \"\";width: 100%;border-bottom: 1px solid gray;flex-grow: 1;}#sk-container-id-14 div.sk-label:hover label.sk-toggleable__label {background-color: #d4ebff;}#sk-container-id-14 div.sk-serial::before {content: \"\";position: absolute;border-left: 1px solid gray;box-sizing: border-box;top: 0;bottom: 0;left: 50%;z-index: 0;}#sk-container-id-14 div.sk-serial {display: flex;flex-direction: column;align-items: center;background-color: white;padding-right: 0.2em;padding-left: 0.2em;position: relative;}#sk-container-id-14 div.sk-item {position: relative;z-index: 1;}#sk-container-id-14 div.sk-parallel {display: flex;align-items: stretch;justify-content: center;background-color: white;position: relative;}#sk-container-id-14 div.sk-item::before, #sk-container-id-14 div.sk-parallel-item::before {content: \"\";position: absolute;border-left: 1px solid gray;box-sizing: border-box;top: 0;bottom: 0;left: 50%;z-index: -1;}#sk-container-id-14 div.sk-parallel-item {display: flex;flex-direction: column;z-index: 1;position: relative;background-color: white;}#sk-container-id-14 div.sk-parallel-item:first-child::after {align-self: flex-end;width: 50%;}#sk-container-id-14 div.sk-parallel-item:last-child::after {align-self: flex-start;width: 50%;}#sk-container-id-14 div.sk-parallel-item:only-child::after {width: 0;}#sk-container-id-14 div.sk-dashed-wrapped {border: 1px dashed gray;margin: 0 0.4em 0.5em 0.4em;box-sizing: border-box;padding-bottom: 0.4em;background-color: white;}#sk-container-id-14 div.sk-label label {font-family: monospace;font-weight: bold;display: inline-block;line-height: 1.2em;}#sk-container-id-14 div.sk-label-container {text-align: center;}#sk-container-id-14 div.sk-container {/* jupyter's `normalize.less` sets `[hidden] { display: none; }` but bootstrap.min.css set `[hidden] { display: none !important; }` so we also need the `!important` here to be able to override the default hidden behavior on the sphinx rendered scikit-learn.org. See: https://github.com/scikit-learn/scikit-learn/issues/21755 */display: inline-block !important;position: relative;}#sk-container-id-14 div.sk-text-repr-fallback {display: none;}</style><div id=\"sk-container-id-14\" class=\"sk-top-container\"><div class=\"sk-text-repr-fallback\"><pre>LinearSVC(random_state=0)</pre><b>In a Jupyter environment, please rerun this cell to show the HTML representation or trust the notebook. <br />On GitHub, the HTML representation is unable to render, please try loading this page with nbviewer.org.</b></div><div class=\"sk-container\" hidden><div class=\"sk-item\"><div class=\"sk-estimator sk-toggleable\"><input class=\"sk-toggleable__control sk-hidden--visually\" id=\"sk-estimator-id-14\" type=\"checkbox\" checked><label for=\"sk-estimator-id-14\" class=\"sk-toggleable__label sk-toggleable__label-arrow\">LinearSVC</label><div class=\"sk-toggleable__content\"><pre>LinearSVC(random_state=0)</pre></div></div></div></div></div>"
      ],
      "text/plain": [
       "LinearSVC(random_state=0)"
      ]
     },
     "execution_count": 281,
     "metadata": {},
     "output_type": "execute_result"
    }
   ],
   "source": [
    "svc_2 = LinearSVC(random_state=0)\n",
    "svc_2.fit(X_train, y_train)"
   ]
  },
  {
   "cell_type": "markdown",
   "id": "7622761c",
   "metadata": {},
   "source": [
    "Evaluate Performance (Precision, Recall, F1 Score)"
   ]
  },
  {
   "cell_type": "code",
   "execution_count": 277,
   "id": "0c2ca2e3",
   "metadata": {},
   "outputs": [],
   "source": [
    "# create confusion matrix to find precision and recall\n",
    "predicted_y = svc_2.predict(X_test)\n",
    "tn, fp, fn, tp = confusion_matrix(y_test, predicted_y).ravel()\n",
    "precision_score = tp / (tp + fp)\n",
    "recall_score = tp / (tp + fn)\n",
    "f1_score = (2*precision_score*recall_score)/(precision_score+recall_score)"
   ]
  },
  {
   "cell_type": "code",
   "execution_count": 278,
   "id": "20878fd3",
   "metadata": {},
   "outputs": [],
   "source": [
    "svc2_performance = pd.DataFrame(['with 2 original features', precision_score, recall_score, f1_score]).transpose()\n",
    "svc2_performance.columns = ['Linear SVC', 'Precision Score', 'Recall Score', 'F1 Score']\n",
    "svc2_performance.set_index('Linear SVC', inplace=True)"
   ]
  },
  {
   "cell_type": "code",
   "execution_count": 279,
   "id": "de04d3fc",
   "metadata": {},
   "outputs": [
    {
     "data": {
      "text/html": [
       "<div>\n",
       "<style scoped>\n",
       "    .dataframe tbody tr th:only-of-type {\n",
       "        vertical-align: middle;\n",
       "    }\n",
       "\n",
       "    .dataframe tbody tr th {\n",
       "        vertical-align: top;\n",
       "    }\n",
       "\n",
       "    .dataframe thead th {\n",
       "        text-align: right;\n",
       "    }\n",
       "</style>\n",
       "<table border=\"1\" class=\"dataframe\">\n",
       "  <thead>\n",
       "    <tr style=\"text-align: right;\">\n",
       "      <th></th>\n",
       "      <th>Precision Score</th>\n",
       "      <th>Recall Score</th>\n",
       "      <th>F1 Score</th>\n",
       "    </tr>\n",
       "    <tr>\n",
       "      <th>Linear SVC</th>\n",
       "      <th></th>\n",
       "      <th></th>\n",
       "      <th></th>\n",
       "    </tr>\n",
       "  </thead>\n",
       "  <tbody>\n",
       "    <tr>\n",
       "      <th>with 2 original features</th>\n",
       "      <td>0.792105</td>\n",
       "      <td>0.272892</td>\n",
       "      <td>0.405934</td>\n",
       "    </tr>\n",
       "  </tbody>\n",
       "</table>\n",
       "</div>"
      ],
      "text/plain": [
       "                         Precision Score Recall Score  F1 Score\n",
       "Linear SVC                                                     \n",
       "with 2 original features        0.792105     0.272892  0.405934"
      ]
     },
     "execution_count": 279,
     "metadata": {},
     "output_type": "execute_result"
    }
   ],
   "source": [
    "svc2_performance"
   ]
  },
  {
   "cell_type": "markdown",
   "id": "c27a662d",
   "metadata": {},
   "source": [
    "## Model Comparison"
   ]
  },
  {
   "cell_type": "code",
   "execution_count": 280,
   "id": "00c16f55",
   "metadata": {},
   "outputs": [
    {
     "data": {
      "text/html": [
       "<div>\n",
       "<style scoped>\n",
       "    .dataframe tbody tr th:only-of-type {\n",
       "        vertical-align: middle;\n",
       "    }\n",
       "\n",
       "    .dataframe tbody tr th {\n",
       "        vertical-align: top;\n",
       "    }\n",
       "\n",
       "    .dataframe thead th {\n",
       "        text-align: right;\n",
       "    }\n",
       "</style>\n",
       "<table border=\"1\" class=\"dataframe\">\n",
       "  <thead>\n",
       "    <tr style=\"text-align: right;\">\n",
       "      <th></th>\n",
       "      <th>Precision Score</th>\n",
       "      <th>Recall Score</th>\n",
       "      <th>F1 Score</th>\n",
       "    </tr>\n",
       "    <tr>\n",
       "      <th>Linear SVC</th>\n",
       "      <th></th>\n",
       "      <th></th>\n",
       "      <th></th>\n",
       "    </tr>\n",
       "  </thead>\n",
       "  <tbody>\n",
       "    <tr>\n",
       "      <th>with 2 PCA features</th>\n",
       "      <td>0.769585</td>\n",
       "      <td>0.378513</td>\n",
       "      <td>0.507445</td>\n",
       "    </tr>\n",
       "    <tr>\n",
       "      <th>with 2 original features</th>\n",
       "      <td>0.792105</td>\n",
       "      <td>0.272892</td>\n",
       "      <td>0.405934</td>\n",
       "    </tr>\n",
       "  </tbody>\n",
       "</table>\n",
       "</div>"
      ],
      "text/plain": [
       "                         Precision Score Recall Score  F1 Score\n",
       "Linear SVC                                                     \n",
       "with 2 PCA features             0.769585     0.378513  0.507445\n",
       "with 2 original features        0.792105     0.272892  0.405934"
      ]
     },
     "execution_count": 280,
     "metadata": {},
     "output_type": "execute_result"
    }
   ],
   "source": [
    "compare_model = pd.concat([svc1_performance, svc2_performance], axis=0)\n",
    "compare_model"
   ]
  }
 ],
 "metadata": {
  "kernelspec": {
   "display_name": "Python 3 (ipykernel)",
   "language": "python",
   "name": "python3"
  },
  "language_info": {
   "codemirror_mode": {
    "name": "ipython",
    "version": 3
   },
   "file_extension": ".py",
   "mimetype": "text/x-python",
   "name": "python",
   "nbconvert_exporter": "python",
   "pygments_lexer": "ipython3",
   "version": "3.10.9"
  }
 },
 "nbformat": 4,
 "nbformat_minor": 5
}
